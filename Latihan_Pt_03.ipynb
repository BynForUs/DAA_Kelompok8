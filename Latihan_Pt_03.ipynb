{
  "nbformat": 4,
  "nbformat_minor": 0,
  "metadata": {
    "colab": {
      "provenance": [],
      "authorship_tag": "ABX9TyO60VbgWqqm5t5mKrbavsHP",
      "include_colab_link": true
    },
    "kernelspec": {
      "name": "python3",
      "display_name": "Python 3"
    },
    "language_info": {
      "name": "python"
    }
  },
  "cells": [
    {
      "cell_type": "markdown",
      "metadata": {
        "id": "view-in-github",
        "colab_type": "text"
      },
      "source": [
        "<a href=\"https://colab.research.google.com/github/BynForUs/DAA_Kelompok8/blob/main/Latihan_Pt_03.ipynb\" target=\"_parent\"><img src=\"https://colab.research.google.com/assets/colab-badge.svg\" alt=\"Open In Colab\"/></a>"
      ]
    },
    {
      "cell_type": "code",
      "execution_count": 4,
      "metadata": {
        "colab": {
          "base_uri": "https://localhost:8080/"
        },
        "id": "qQXnn7Zo1xAc",
        "outputId": "3def3898-2185-47b3-f42e-85dc90470cd2"
      },
      "outputs": [
        {
          "output_type": "stream",
          "name": "stdout",
          "text": [
            "['jhon', 33, 'Toronto', True]\n"
          ]
        }
      ],
      "source": [
        "alist = [\"jhon\", 33, \"Toronto\", True]\n",
        "print(alist)"
      ]
    },
    {
      "cell_type": "code",
      "source": [
        "bin_colors=['Red', 'Green', 'Blue', 'Yellow']\n",
        "bin_colors [1]"
      ],
      "metadata": {
        "colab": {
          "base_uri": "https://localhost:8080/",
          "height": 35
        },
        "id": "Hexfhb4k1yXS",
        "outputId": "1bb7d2ea-3d29-4ae7-9a14-1478efeb453c"
      },
      "execution_count": 3,
      "outputs": [
        {
          "output_type": "execute_result",
          "data": {
            "text/plain": [
              "'Green'"
            ],
            "application/vnd.google.colaboratory.intrinsic+json": {
              "type": "string"
            }
          },
          "metadata": {},
          "execution_count": 3
        }
      ]
    },
    {
      "cell_type": "code",
      "source": [
        "bin_colors=['Red', 'Green', 'Blue', 'Yellow']\n",
        "bin_colors [0:2]"
      ],
      "metadata": {
        "colab": {
          "base_uri": "https://localhost:8080/"
        },
        "id": "rfKr63qd12HH",
        "outputId": "a7bc8980-f34c-4dc3-b487-764ec70f438d"
      },
      "execution_count": 2,
      "outputs": [
        {
          "output_type": "execute_result",
          "data": {
            "text/plain": [
              "['Red', 'Green']"
            ]
          },
          "metadata": {},
          "execution_count": 2
        }
      ]
    },
    {
      "cell_type": "code",
      "source": [
        "from datetime import date\n",
        "\n",
        "# Membuat list \"Mahasiswa\"\n",
        "Mahasiswa = [\n",
        "    \"Bintang Septa\",            # Nama\n",
        "    \"2024071013\",            # NIM\n",
        "    \"Teknik Informatika\",    # Prodi\n",
        "    \"DAA\",         # Mata Kuliah\n",
        "    date.today().strftime(\"%d-%m-%Y\"),  # Tanggal hari ini\n",
        "    \"Universitas Pembangunan Jaya\"   # Nama Universitas\n",
        "]\n",
        "\n",
        "# Tampilkan isi list\n",
        "print(\"Data Mahasiswa:\")\n",
        "print(\"Nama          :\", Mahasiswa[0])\n",
        "print(\"NIM           :\", Mahasiswa[1])\n",
        "print(\"Prodi         :\", Mahasiswa[2])\n",
        "print(\"Mata Kuliah   :\", Mahasiswa[3])\n",
        "print(\"Tanggal Hari Ini :\", Mahasiswa[4])\n",
        "print(\"Universitas   :\", Mahasiswa[5])"
      ],
      "metadata": {
        "colab": {
          "base_uri": "https://localhost:8080/"
        },
        "id": "U3rNKu-K142M",
        "outputId": "75b3c546-18ae-4396-a23c-76b739517061"
      },
      "execution_count": 1,
      "outputs": [
        {
          "output_type": "stream",
          "name": "stdout",
          "text": [
            "Data Mahasiswa:\n",
            "Nama          : Bintang Septa\n",
            "NIM           : 2024071013\n",
            "Prodi         : Teknik Informatika\n",
            "Mata Kuliah   : DAA\n",
            "Tanggal Hari Ini : 15-09-2025\n",
            "Universitas   : Universitas Pembangunan Jaya\n"
          ]
        }
      ]
    },
    {
      "cell_type": "code",
      "source": [
        "from datetime import date\n",
        "tgl_v1 = date.today()\n",
        "print(tgl_v1)\n",
        "\n",
        "import datetime as vDate\n",
        "hari = vDate.date.today()\n",
        "tanggal = vDate.date.today()\n",
        "print(hari)\n",
        "print(tanggal)\n",
        "\n",
        "mahasiswa = [\"Bintang\", \"2024071013\", \"informatika\", \"DAA\", f\"{tanggal.day}-{tanggal.month}-{tanggal.year}\", \"UPJ\"]\n",
        "print(mahasiswa)"
      ],
      "metadata": {
        "colab": {
          "base_uri": "https://localhost:8080/"
        },
        "id": "nEjzRvRk2Ogv",
        "outputId": "0f9b6a41-7bfb-4a16-d35f-61e948b7e3ba"
      },
      "execution_count": 5,
      "outputs": [
        {
          "output_type": "stream",
          "name": "stdout",
          "text": [
            "2025-09-15\n",
            "2025-09-15\n",
            "2025-09-15\n",
            "['Bintang', '2024071013', 'informatika', 'DAA', '15-9-2025', 'UPJ']\n"
          ]
        }
      ]
    },
    {
      "cell_type": "code",
      "source": [
        "print (\"NIM\", mahasiswa[0:1])"
      ],
      "metadata": {
        "colab": {
          "base_uri": "https://localhost:8080/"
        },
        "id": "4Fg98uJ42WN4",
        "outputId": "6109afb0-75f3-4f10-d0c2-ac951510810b"
      },
      "execution_count": 6,
      "outputs": [
        {
          "output_type": "stream",
          "name": "stdout",
          "text": [
            "NIM ['Bintang']\n"
          ]
        }
      ]
    },
    {
      "cell_type": "code",
      "source": [
        "print (\"matkul\", mahasiswa[4:5])"
      ],
      "metadata": {
        "colab": {
          "base_uri": "https://localhost:8080/"
        },
        "id": "MUdnP0vC2Z6s",
        "outputId": "1e3b17e4-6187-44ab-d88e-1740b2d9ff93"
      },
      "execution_count": 7,
      "outputs": [
        {
          "output_type": "stream",
          "name": "stdout",
          "text": [
            "matkul ['15-9-2025']\n"
          ]
        }
      ]
    },
    {
      "cell_type": "code",
      "source": [
        "bin_colors = ['Red', 'Green', 'Blue', 'Yellow']\n",
        "for aColor in bin_colors:\n",
        "    print(aColor + 'square')"
      ],
      "metadata": {
        "colab": {
          "base_uri": "https://localhost:8080/"
        },
        "id": "JlfyAx7F2gSb",
        "outputId": "8bb3ecfc-bd0d-4a11-ba76-39ec9277cc9d"
      },
      "execution_count": 8,
      "outputs": [
        {
          "output_type": "stream",
          "name": "stdout",
          "text": [
            "Redsquare\n",
            "Greensquare\n",
            "Bluesquare\n",
            "Yellowsquare\n"
          ]
        }
      ]
    },
    {
      "cell_type": "code",
      "source": [
        "for aMhs in mahasiswa:\n",
        "  print(aMhs + ' UPJ')"
      ],
      "metadata": {
        "colab": {
          "base_uri": "https://localhost:8080/"
        },
        "id": "dP6XWfY-2klt",
        "outputId": "279459d9-3e89-4d73-bdc1-92ad202da565"
      },
      "execution_count": 9,
      "outputs": [
        {
          "output_type": "stream",
          "name": "stdout",
          "text": [
            "Bintang UPJ\n",
            "2024071013 UPJ\n",
            "informatika UPJ\n",
            "DAA UPJ\n",
            "15-9-2025 UPJ\n",
            "UPJ UPJ\n"
          ]
        }
      ]
    },
    {
      "cell_type": "code",
      "source": [
        "UPJ = ['Universitas', 'Pembangunan', 'Jaya']\n",
        "for aUPJ in UPJ:\n",
        "  print(aUPJ + ' UPJ')"
      ],
      "metadata": {
        "colab": {
          "base_uri": "https://localhost:8080/"
        },
        "id": "hcO_qgC92njk",
        "outputId": "105a675f-af58-4d9f-8145-6d1a613a435a"
      },
      "execution_count": 10,
      "outputs": [
        {
          "output_type": "stream",
          "name": "stdout",
          "text": [
            "Universitas UPJ\n",
            "Pembangunan UPJ\n",
            "Jaya UPJ\n"
          ]
        }
      ]
    },
    {
      "cell_type": "code",
      "source": [
        "nested_tuple = (100, (200, 400, 600), 300, (400, 800))\n",
        "\n",
        "print(nested_tuple)"
      ],
      "metadata": {
        "colab": {
          "base_uri": "https://localhost:8080/"
        },
        "id": "HBfCNr3E2qZe",
        "outputId": "0e1d48fe-b4ed-42ae-e15c-6ae01f700255"
      },
      "execution_count": 11,
      "outputs": [
        {
          "output_type": "stream",
          "name": "stdout",
          "text": [
            "(100, (200, 400, 600), 300, (400, 800))\n"
          ]
        }
      ]
    }
  ]
}